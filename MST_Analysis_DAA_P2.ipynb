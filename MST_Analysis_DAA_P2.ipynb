{
  "nbformat": 4,
  "nbformat_minor": 0,
  "metadata": {
    "colab": {
      "provenance": [],
      "include_colab_link": true
    },
    "kernelspec": {
      "name": "python3",
      "display_name": "Python 3"
    },
    "language_info": {
      "name": "python"
    }
  },
  "cells": [
    {
      "cell_type": "markdown",
      "metadata": {
        "id": "view-in-github",
        "colab_type": "text"
      },
      "source": [
        "<a href=\"https://colab.research.google.com/github/Prithvi0709/Analysis-of-Algorithms/blob/main/MST_Analysis_DAA_P2.ipynb\" target=\"_parent\"><img src=\"https://colab.research.google.com/assets/colab-badge.svg\" alt=\"Open In Colab\"/></a>"
      ]
    },
    {
      "cell_type": "code",
      "source": [
        "number = 7"
      ],
      "metadata": {
        "id": "ke7aEmP9xCLS"
      },
      "execution_count": null,
      "outputs": []
    },
    {
      "cell_type": "code",
      "source": [
        "from time import perf_counter_ns\n",
        "theorectical_result = [None]*number\n",
        "experimental_result = [None]*number\n",
        "constant = [None]*number\n",
        "average_constant = 0"
      ],
      "metadata": {
        "id": "6L4526fxz5do"
      },
      "execution_count": null,
      "outputs": []
    },
    {
      "cell_type": "code",
      "source": [
        "class Graph:\n",
        "    def __init__(self, vertices):\n",
        "        self.V = vertices\n",
        "        self.graph = []\n",
        "\n",
        "    def add_edge(self, u, v, w):\n",
        "        self.graph.append([u, v, w])\n",
        "\n",
        "    # Search function\n",
        "    def find(self, parent, i):\n",
        "        if parent[i] == i:\n",
        "            return i\n",
        "        return self.find(parent, parent[i])\n",
        "\n",
        "    def apply_union(self, parent, rank, x, y):\n",
        "        xroot = self.find(parent, x)\n",
        "        yroot = self.find(parent, y)\n",
        "        if rank[xroot] < rank[yroot]:\n",
        "            parent[xroot] = yroot\n",
        "        elif rank[xroot] > rank[yroot]:\n",
        "            parent[yroot] = xroot\n",
        "        else:\n",
        "            parent[yroot] = xroot\n",
        "            rank[xroot] += 1\n",
        "\n",
        "    #  Applying Kruskal algorithm\n",
        "    def kruskal_algo(self):\n",
        "        total_weight=0\n",
        "        result = []\n",
        "        i, e = 0, 0\n",
        "        self.graph = sorted(self.graph, key=lambda item: item[2])\n",
        "        parent = []\n",
        "        rank = []\n",
        "        for node in range(self.V):\n",
        "            parent.append(node)\n",
        "            rank.append(0)\n",
        "        while e < self.V - 1:\n",
        "            u, v, w = self.graph[i]\n",
        "            i = i + 1\n",
        "            x = self.find(parent, u)\n",
        "            y = self.find(parent, v)\n",
        "            if x != y:\n",
        "                e = e + 1\n",
        "                result.append([u, v, w])\n",
        "                self.apply_union(parent, rank, x, y)\n",
        "        for u, v, weight in result:\n",
        "            total_weight=total_weight+weight\n",
        "            #print(\"%d - %d: %d\" % (u, v, weight))\n",
        "            #print(total_weight)\n",
        "        MST_weight = total_weight\n",
        "        #print(MST_weight)\n"
      ],
      "metadata": {
        "id": "rBFwlP30yvRy"
      },
      "execution_count": null,
      "outputs": []
    },
    {
      "cell_type": "markdown",
      "source": [
        "# Graph 1 (V = 4, E = 5) "
      ],
      "metadata": {
        "id": "dU93GcVed42n"
      }
    },
    {
      "cell_type": "code",
      "source": [
        "avg_time = 0\n",
        "\n",
        "# number of nodes(n)\n",
        "g = Graph(4) \n",
        "\n",
        "# number of edges(m)\n",
        "g.add_edge(0, 1, 10) \n",
        "g.add_edge(1, 3, 15)\n",
        "g.add_edge(2, 3, 4)\n",
        "g.add_edge(0, 2, 6)\n",
        "g.add_edge(0, 3, 3)\n",
        "\n",
        "\n",
        "\n",
        "\n",
        "for i in range(0,1001):\n",
        "  start_time = perf_counter_ns() \n",
        "  g.kruskal_algo()\n",
        "  end_time = perf_counter_ns()\n",
        "  avg_time = avg_time + (end_time - start_time)/10**6\n",
        "\n",
        "experimental_result[0] = avg_time/1000\n",
        "print(\"Elapsed time (microseconds):\", experimental_result[0])\n",
        "print(experimental_result[0])"
      ],
      "metadata": {
        "colab": {
          "base_uri": "https://localhost:8080/"
        },
        "id": "svZ-xvcK6R5T",
        "outputId": "0bd56085-20cf-4da8-888d-4a07f0aa5352"
      },
      "execution_count": null,
      "outputs": [
        {
          "output_type": "stream",
          "name": "stdout",
          "text": [
            "Elapsed time (microseconds): 0.008339702000000006\n",
            "0.008339702000000006\n"
          ]
        }
      ]
    },
    {
      "cell_type": "markdown",
      "source": [
        "# Graph 2(V = 5, E = 6)"
      ],
      "metadata": {
        "id": "vUFJimaweLwq"
      }
    },
    {
      "cell_type": "code",
      "source": [
        "avg_time = 0\n",
        "\n",
        "# number of nodes(n)\n",
        "g = Graph(5) \n",
        "\n",
        "# number of edges(m)\n",
        "g.add_edge(0, 1, 4) \n",
        "g.add_edge(1, 2, 18)\n",
        "g.add_edge(2, 3, 1)\n",
        "g.add_edge(3, 4, 13)\n",
        "g.add_edge(4, 0, 11)\n",
        "g.add_edge(0, 2, 2)\n",
        "\n",
        "for i in range(0,1000):\n",
        "  start_time = perf_counter_ns() \n",
        "  g.kruskal_algo()\n",
        "  end_time = perf_counter_ns()\n",
        "  avg_time = avg_time + (end_time - start_time)/10**6\n",
        "\n",
        "experimental_result[1] = avg_time/1000\n",
        "print(\"Elapsed time (microseconds):\", experimental_result[1])\n",
        "print(experimental_result[1])"
      ],
      "metadata": {
        "colab": {
          "base_uri": "https://localhost:8080/"
        },
        "outputId": "73989566-5d4c-427e-c417-2df0e391c7b6",
        "id": "O9eB-2kJeG_c"
      },
      "execution_count": null,
      "outputs": [
        {
          "output_type": "stream",
          "name": "stdout",
          "text": [
            "Elapsed time (microseconds): 0.010133769000000015\n",
            "0.010133769000000015\n"
          ]
        }
      ]
    },
    {
      "cell_type": "markdown",
      "source": [
        "# Graph 3(V = 6, E = 7)"
      ],
      "metadata": {
        "id": "-voOdlDneqCW"
      }
    },
    {
      "cell_type": "code",
      "source": [
        "avg_time = 0\n",
        "\n",
        "# number of nodes(n)\n",
        "g = Graph(6) \n",
        "\n",
        "# number of edges(m)\n",
        "g.add_edge(0, 1, 5) \n",
        "g.add_edge(1, 2, 20)\n",
        "g.add_edge(2, 3, 7)\n",
        "g.add_edge(3, 4, 9)\n",
        "g.add_edge(4, 5, 12)\n",
        "g.add_edge(5, 0, 8)\n",
        "g.add_edge(0, 3, 11)\n",
        "\n",
        "\n",
        "\n",
        "for i in range(0,1000):\n",
        "  start_time = perf_counter_ns() \n",
        "  g.kruskal_algo()\n",
        "  end_time = perf_counter_ns()\n",
        "  avg_time = avg_time + (end_time - start_time)/10**6\n",
        "\n",
        "experimental_result[2] = avg_time/1000\n",
        "print(\"Elapsed time (microseconds):\", experimental_result[2])\n",
        "print(experimental_result[2])"
      ],
      "metadata": {
        "colab": {
          "base_uri": "https://localhost:8080/"
        },
        "outputId": "567f2ef0-b16f-4b09-e8e1-e7cdd9ddcb1d",
        "id": "mODm-PY9eUKE"
      },
      "execution_count": null,
      "outputs": [
        {
          "output_type": "stream",
          "name": "stdout",
          "text": [
            "Elapsed time (microseconds): 0.013476018999999988\n",
            "0.013476018999999988\n"
          ]
        }
      ]
    },
    {
      "cell_type": "markdown",
      "source": [
        "# Graph 4(V = 7, E = 8)"
      ],
      "metadata": {
        "id": "74UeXg2Aeo8V"
      }
    },
    {
      "cell_type": "code",
      "source": [
        "avg_time = 0\n",
        "\n",
        "# number of nodes(n)\n",
        "g = Graph(7) \n",
        "\n",
        "# number of edges(m)\n",
        "g.add_edge(0, 1, 11) \n",
        "g.add_edge(1, 2, 15)\n",
        "g.add_edge(2, 3, 10)\n",
        "g.add_edge(3, 4, 17)\n",
        "g.add_edge(4, 5, 16)\n",
        "g.add_edge(5, 6, 13)\n",
        "g.add_edge(6, 0, 3)\n",
        "g.add_edge(0, 3, 4)\n",
        "\n",
        "for i in range(0,1000):\n",
        "  start_time = perf_counter_ns() \n",
        "  g.kruskal_algo()\n",
        "  end_time = perf_counter_ns()\n",
        "  avg_time = avg_time + (end_time - start_time)/10**6\n",
        "\n",
        "experimental_result[3] = avg_time/1000\n",
        "print(\"Elapsed time (microseconds):\", experimental_result[3])\n",
        "print(experimental_result[3])"
      ],
      "metadata": {
        "colab": {
          "base_uri": "https://localhost:8080/"
        },
        "outputId": "a222587d-7be3-45b9-b870-be3b747729fe",
        "id": "x9QbVM96eUc_"
      },
      "execution_count": null,
      "outputs": [
        {
          "output_type": "stream",
          "name": "stdout",
          "text": [
            "Elapsed time (microseconds): 0.017472506000000006\n",
            "0.017472506000000006\n"
          ]
        }
      ]
    },
    {
      "cell_type": "markdown",
      "source": [
        "#Graph 5(V = 8, E = 9)"
      ],
      "metadata": {
        "id": "MV6YVseIq1vE"
      }
    },
    {
      "cell_type": "code",
      "source": [
        "avg_time = 0\n",
        "\n",
        "# number of nodes(n)\n",
        "g = Graph(8) \n",
        "\n",
        "# number of edges(m)\n",
        "g.add_edge(0, 1, 4) \n",
        "g.add_edge(1, 2, 2)\n",
        "g.add_edge(2, 3, 7)\n",
        "g.add_edge(3, 4, 13)\n",
        "g.add_edge(4, 5, 1)\n",
        "g.add_edge(5, 6, 18)\n",
        "g.add_edge(6, 7, 4)\n",
        "g.add_edge(7, 0, 10)\n",
        "g.add_edge(0, 3, 9)\n",
        "\n",
        "for i in range(0,1000):\n",
        "  start_time = perf_counter_ns() \n",
        "  g.kruskal_algo()\n",
        "  end_time = perf_counter_ns()\n",
        "  avg_time = avg_time + (end_time - start_time)/10**6\n",
        "\n",
        "experimental_result[4] = avg_time/1000\n",
        "print(\"Elapsed time (microseconds):\", experimental_result[4])\n",
        "print(experimental_result[4])"
      ],
      "metadata": {
        "colab": {
          "base_uri": "https://localhost:8080/"
        },
        "id": "J0oo6KA8vPFt",
        "outputId": "63b02c8d-43bf-45e3-ce74-7d4069c6d723"
      },
      "execution_count": null,
      "outputs": [
        {
          "output_type": "stream",
          "name": "stdout",
          "text": [
            "Elapsed time (microseconds): 0.019283040999999976\n",
            "0.019283040999999976\n"
          ]
        }
      ]
    },
    {
      "cell_type": "markdown",
      "source": [
        "#Graph 6(V = 9, E = 10)"
      ],
      "metadata": {
        "id": "sNvozVT10jUU"
      }
    },
    {
      "cell_type": "code",
      "source": [
        "avg_time = 0\n",
        "\n",
        "# number of nodes(n)\n",
        "g = Graph(9) \n",
        "g.add_edge(0, 1, 4) \n",
        "g.add_edge(1, 2, 2)\n",
        "g.add_edge(2, 3, 7)\n",
        "g.add_edge(3, 4, 13)\n",
        "g.add_edge(4, 5, 1)\n",
        "g.add_edge(5, 6, 18)\n",
        "g.add_edge(6, 7, 4)\n",
        "g.add_edge(7, 8, 10)\n",
        "g.add_edge(8, 0, 10)\n",
        "g.add_edge(0, 3, 9)\n",
        "\n",
        "for i in range(0,1000):\n",
        "  start_time = perf_counter_ns() \n",
        "  g.kruskal_algo()\n",
        "  end_time = perf_counter_ns()\n",
        "  avg_time = avg_time + (end_time - start_time)/10**6\n",
        "\n",
        "experimental_result[5] = avg_time/1000\n",
        "print(\"Elapsed time (microseconds):\", experimental_result[5])\n",
        "print(experimental_result[5])"
      ],
      "metadata": {
        "colab": {
          "base_uri": "https://localhost:8080/"
        },
        "id": "wJPWvAR00mit",
        "outputId": "41edaf9e-46e6-4d08-e40e-9b32fbe8142c"
      },
      "execution_count": null,
      "outputs": [
        {
          "output_type": "stream",
          "name": "stdout",
          "text": [
            "Elapsed time (microseconds): 0.023167565000000015\n",
            "0.023167565000000015\n"
          ]
        }
      ]
    },
    {
      "cell_type": "markdown",
      "source": [
        "#Graph 6(V = 10, E = 11)"
      ],
      "metadata": {
        "id": "Ozs3e3_P18dw"
      }
    },
    {
      "cell_type": "code",
      "source": [
        "avg_time = 0\n",
        "\n",
        "# number of nodes(n)\n",
        "g = Graph(10) \n",
        "\n",
        "# number of edges(m)\n",
        "g.add_edge(0, 1, 11) \n",
        "g.add_edge(1, 2, 5)\n",
        "g.add_edge(2, 3, 13)\n",
        "g.add_edge(3, 4, 18)\n",
        "g.add_edge(4, 5, 4)\n",
        "g.add_edge(5, 6, 6)\n",
        "g.add_edge(6, 7, 3)\n",
        "g.add_edge(7, 8, 19)\n",
        "g.add_edge(8, 9, 8)\n",
        "g.add_edge(9, 0, 1)\n",
        "g.add_edge(0, 3, 14)\n",
        "\n",
        "for i in range(0,1000):\n",
        "  start_time = perf_counter_ns() \n",
        "  g.kruskal_algo()\n",
        "  end_time = perf_counter_ns()\n",
        "  avg_time = avg_time + (end_time - start_time)/10**6\n",
        "\n",
        "experimental_result[6] = avg_time/1000\n",
        "print(\"Elapsed time (microseconds):\", experimental_result[6])\n",
        "print(experimental_result[6])"
      ],
      "metadata": {
        "colab": {
          "base_uri": "https://localhost:8080/"
        },
        "id": "kw50aoOu1_Bu",
        "outputId": "99b3ce0e-f855-4a4f-fbd1-0ac7c75729bb"
      },
      "execution_count": null,
      "outputs": [
        {
          "output_type": "stream",
          "name": "stdout",
          "text": [
            "Elapsed time (microseconds): 0.02801788499999999\n",
            "0.02801788499999999\n"
          ]
        }
      ]
    },
    {
      "cell_type": "code",
      "source": [
        "experimental_result_final_saved = experimental_result"
      ],
      "metadata": {
        "id": "c5GDJv5yvoh2"
      },
      "execution_count": null,
      "outputs": []
    },
    {
      "cell_type": "code",
      "source": [
        "experimental_result = experimental_result_final_saved"
      ],
      "metadata": {
        "id": "qKkXduCxwqlN"
      },
      "execution_count": null,
      "outputs": []
    },
    {
      "cell_type": "code",
      "execution_count": null,
      "metadata": {
        "colab": {
          "base_uri": "https://localhost:8080/"
        },
        "id": "RLcuu_fplm4L",
        "outputId": "052612bd-1bec-48ba-d7f1-a088d04e4816"
      },
      "outputs": [
        {
          "output_type": "stream",
          "name": "stdout",
          "text": [
            "Elapsed time (microseconds): 6.931471805599453\n",
            "Elapsed time (microseconds): 9.656627474604601\n",
            "Elapsed time (microseconds): 12.542316284596385\n",
            "Elapsed time (microseconds): 15.567281192442506\n",
            "Elapsed time (microseconds): 18.71497387511852\n",
            "Elapsed time (microseconds): 21.972245773362197\n",
            "Elapsed time (microseconds): 25.328436022934504\n"
          ]
        }
      ],
      "source": [
        "import math\n",
        "y = 0\n",
        "for v in range(4,11):\n",
        "    m = v+1\n",
        "    x = math.log(v)\n",
        "    theorectical_result[y] = (m*x)\n",
        "    print(\"Elapsed time (microseconds):\", theorectical_result[y])\n",
        "    y=y+1"
      ]
    },
    {
      "cell_type": "code",
      "source": [
        "import matplotlib.pyplot as plt\n",
        "  \n",
        "# line 1 points\n",
        "x1 = [4,5,6,7,8,9,10]\n",
        "y1 = [experimental_result[0],experimental_result[1],experimental_result[2],experimental_result[3],experimental_result[4],experimental_result[5],experimental_result[6]]\n",
        "# plotting the line 1 points \n",
        "plt.plot(x1, y1, label = \"Experimental results\")\n",
        "  \n",
        "# naming the x axis\n",
        "plt.xlabel('Number of elements(n)')\n",
        "# naming the y axis\n",
        "plt.ylabel('Time(t in microseconds)')\n",
        "# giving a title to my graph\n",
        "plt.title('Experimental results ')\n",
        "  \n",
        "# show a legend on the plot\n",
        "plt.legend()\n",
        "  \n",
        "# function to show the plot\n",
        "plt.show()"
      ],
      "metadata": {
        "colab": {
          "base_uri": "https://localhost:8080/",
          "height": 295
        },
        "id": "8o9FzLRLpL6x",
        "outputId": "1b5fdcca-29bc-432a-f18d-3d055d88e840"
      },
      "execution_count": null,
      "outputs": [
        {
          "output_type": "display_data",
          "data": {
            "text/plain": [
              "<Figure size 432x288 with 1 Axes>"
            ],
            "image/png": "[encoded data removed]"
          },
          "metadata": {
            "needs_background": "light"
          }
        }
      ]
    },
    {
      "cell_type": "code",
      "source": [
        "import matplotlib.pyplot as plt\n",
        "  \n",
        "# line 1 points\n",
        "x1 = [4,5,6,7,8,9,10]\n",
        "y1 = [theorectical_result[0],theorectical_result[1],theorectical_result[2],theorectical_result[3],theorectical_result[4],theorectical_result[5],theorectical_result[6]]\n",
        "# plotting the line 1 points \n",
        "plt.plot(x1, y1, label = \"O(m*log(n))\")\n",
        "  \n",
        "# naming the x axis\n",
        "plt.xlabel('Number of elements(n)')\n",
        "# naming the y axis\n",
        "plt.ylabel('Time(t in microseconds)')\n",
        "# giving a title to my graph\n",
        "plt.title('Theoretical results ')\n",
        "  \n",
        "# show a legend on the plot\n",
        "plt.legend()\n",
        "  \n",
        "# function to show the plot\n",
        "plt.show()"
      ],
      "metadata": {
        "colab": {
          "base_uri": "https://localhost:8080/",
          "height": 295
        },
        "id": "FDoQ-JExucv7",
        "outputId": "2e61e960-a837-497c-914a-be8a7ac84501"
      },
      "execution_count": null,
      "outputs": [
        {
          "output_type": "display_data",
          "data": {
            "text/plain": [
              "<Figure size 432x288 with 1 Axes>"
            ],
            "image/png": "[encoded data removed]"
          },
          "metadata": {
            "needs_background": "light"
          }
        }
      ]
    },
    {
      "cell_type": "code",
      "source": [
        "experimental_result_corrected = [None]*number"
      ],
      "metadata": {
        "id": "O883wNgiw6OZ"
      },
      "execution_count": null,
      "outputs": []
    },
    {
      "cell_type": "code",
      "source": [
        "for i in range(0,number):\n",
        "  constant[i]=theorectical_result[i]/experimental_result[i]\n",
        "\n",
        "for i in range(0,number):\n",
        "  average_constant=average_constant+constant[i]\n",
        "\n",
        "average_constant=average_constant/number\n",
        "\n",
        "for i in range(0,number):\n",
        "  experimental_result_corrected[i]=average_constant*experimental_result[i]\n",
        "\n",
        "print(average_constant)\n",
        "print(constant)"
      ],
      "metadata": {
        "colab": {
          "base_uri": "https://localhost:8080/"
        },
        "id": "wR3MrzSBTVT-",
        "outputId": "69f8a255-4d6d-489e-ff20-93f600a80190"
      },
      "execution_count": null,
      "outputs": [
        {
          "output_type": "stream",
          "name": "stdout",
          "text": [
            "918.3836009215536\n",
            "[831.1414251491777, 952.9156895726148, 930.7137578684325, 890.958697764505, 970.540584087258, 948.4054872992558, 904.0095647096315]\n"
          ]
        }
      ]
    },
    {
      "cell_type": "code",
      "source": [
        "import matplotlib.pyplot as plt\n",
        "  \n",
        "# line 1 points\n",
        "x1 = [4,5,6,7,8]\n",
        "y1 = [experimental_result_corrected[0],experimental_result_corrected[1],experimental_result_corrected[2],experimental_result_corrected[3],experimental_result_corrected[4]]\n",
        "# plotting the line 1 points \n",
        "plt.plot(x1, y1, label = \"Experimental results\")\n",
        "  \n",
        "# naming the x axis\n",
        "plt.xlabel('Number of elements(n)')\n",
        "# naming the y axis\n",
        "plt.ylabel('Time(t in microseconds)')\n",
        "# giving a title to my graph\n",
        "plt.title('Experimental results ')\n",
        "  \n",
        "# show a legend on the plot\n",
        "plt.legend()\n",
        "  \n",
        "# function to show the plot\n",
        "plt.show()"
      ],
      "metadata": {
        "colab": {
          "base_uri": "https://localhost:8080/",
          "height": 295
        },
        "id": "vowBlhSIUvrc",
        "outputId": "15eddc05-b063-4b87-d7ee-a8f04dffeacd"
      },
      "execution_count": null,
      "outputs": [
        {
          "output_type": "display_data",
          "data": {
            "text/plain": [
              "<Figure size 432x288 with 1 Axes>"
            ],
            "image/png": "[encoded data removed]"
          },
          "metadata": {
            "needs_background": "light"
          }
        }
      ]
    },
    {
      "cell_type": "code",
      "source": [
        "import matplotlib.pyplot as plt\n",
        "  \n",
        "# line 1 points\n",
        "x1 = [4,5,6,7,8]\n",
        "y1 = [experimental_result_corrected[0],experimental_result_corrected[1],experimental_result_corrected[2],experimental_result_corrected[3],experimental_result_corrected[4]]\n",
        "#plotting the line 1 points\n",
        "plt.plot(x1, y1, label = \"Experimental results\")\n",
        "  \n",
        "# line 2 points\n",
        "x2 = [4,5,6,7,8]\n",
        "y2 = [theorectical_result[0],theorectical_result[1],theorectical_result[2],theorectical_result[3],theorectical_result[4]]\n",
        "# plotting the line 2 points \n",
        "plt.plot(x2, y2, label = \"O(m*log(n))\")\n",
        "  \n",
        "# naming the x axis\n",
        "plt.xlabel('Number of elements(n)')\n",
        "# naming the y axis\n",
        "plt.ylabel('Time(t in mircroseconds)')\n",
        "# giving a title to my graph\n",
        "plt.title('Comparing experimental results with theoritical results')\n",
        "  \n",
        "# show a legend on the plot\n",
        "plt.legend()\n",
        "  \n",
        "# function to show the plot\n",
        "plt.show()"
      ],
      "metadata": {
        "colab": {
          "base_uri": "https://localhost:8080/",
          "height": 295
        },
        "id": "Ew9jRFDKv1WV",
        "outputId": "45fbbb4d-195d-45b9-945c-831a0dda43e0"
      },
      "execution_count": null,
      "outputs": [
        {
          "output_type": "display_data",
          "data": {
            "text/plain": [
              "<Figure size 432x288 with 1 Axes>"
            ],
            "image/png": "[encoded data removed]"
          },
          "metadata": {
            "needs_background": "light"
          }
        }
      ]
    }
  ]
}